{
 "cells": [
  {
   "cell_type": "markdown",
   "metadata": {},
   "source": [
    "<a name=\"top\"></a>\n",
    "<div style=\"width:1000 px\">\n",
    "\n",
    "<div style=\"float:right; width:340 px; height:300px;\">\n",
    "<img src=\"https://raw.githubusercontent.com/unidata/drilsdown/master/docs/_static/DRILSDOWN_logo.png\" alt=\"DRILSDOWN Logo\" style=\"height: 300px;\">\n",
    "</div>\n",
    "\n",
    "<div style=\"float:right; width:98 px; height:98px;\">\n",
    "<img src=\"https://www.earthcube.org/sites/default/files/doc-repository/logo_earthcube_cube-only_SMALL.png\" alt=\"Earthcube Logo\" style=\"height: 98px;\">\n",
    "</div>\n",
    "\n",
    "\n",
    "<h1>Understanding eddy momentum flux III: Synthetic data</h1>\n",
    "<h4>Suvarchal Cheedela and Brian Mapes, July 2018</h4>\n",
    "\n",
    "## Kinematic construction of a cyclone in shear for KEdot elucidation\n",
    "### Same array shape as a G5NR case study, overwritten as simple shear + deep Rankine vortex, optionally with zero-$\\zeta_{abs}$ anticyclone on top \n",
    "#### + w field based on making vortex \"resilient\" (downshear ascent) -- for instance, a stretching term devised to oppose $\\zeta$ tendencies due to advection by shearflow\n",
    "\n",
    "Part of [this nbviewer repo](http://nbviewer.jupyter.org/github/brianmapes/G5NR_Interactive_notebooks/tree/master/)\n",
    "\n",
    "-------------\n",
    "\n",
    "<div style=\"clear:both\"></div>\n",
    "</div>\n",
    "\n",
    "<hr style=\"height:2px;\">\n",
    "\n",
    "\n",
    "### Sections\n",
    "1. <a href=\"#build\">Build the synthetic u,v,w fields</a>\n",
    "2. <a href=\"#display\">display SKEdot exposition from those</a>"
   ]
  },
  {
   "cell_type": "markdown",
   "metadata": {},
   "source": []
  },
  {
   "cell_type": "code",
   "execution_count": null,
   "metadata": {},
   "outputs": [],
   "source": [
    "import holoviews as hv\n",
    "import geoviews as gv\n",
    "import geoviews.feature as gf\n",
    "from cartopy import crs as ccrs\n",
    "import xarray as xr\n",
    "import numpy as np\n",
    "from datetime import datetime\n",
    "from holoviews import streams\n",
    "\n",
    "import G5NR_utils"
   ]
  },
  {
   "cell_type": "code",
   "execution_count": null,
   "metadata": {},
   "outputs": [],
   "source": [
    "%reload_ext ipython_IDV"
   ]
  },
  {
   "cell_type": "markdown",
   "metadata": {},
   "source": [
    "# Grab the array shape from an arbitrary G5NR case study"
   ]
  },
  {
   "cell_type": "code",
   "execution_count": null,
   "metadata": {},
   "outputs": [],
   "source": [
    "path = '/Users/bem/Jupyter/G5NR_Interactive_notebooks/'\n",
    "\n",
    "#zbundlefile = path+'data/ZIDV_cases/skedot_40.1_prec_119.7_lat_28.6_lon_148.0_time_200610131230.zidv'\n",
    "#xrdata_3d = xr.from_zidv(zbundlefile)\n",
    "\n",
    "# Why the $&#(@#* are there NANs here? \n",
    "#print( xrdata_3d.u[0,70,:,128] )"
   ]
  },
  {
   "cell_type": "code",
   "execution_count": null,
   "metadata": {},
   "outputs": [],
   "source": [
    "arrays = xr.open_dataset(path+'data/data_0_3D7km30minuteInst.nc')\n",
    "#arrays\n",
    "#print( arrays.u[0,70,:,128] ) # looks OK"
   ]
  },
  {
   "cell_type": "markdown",
   "metadata": {},
   "source": [
    "<a name=\"build\"></a>\n",
    "\n",
    "# Shear flow: linear in pressure, zero at 500 hPa "
   ]
  },
  {
   "cell_type": "code",
   "execution_count": null,
   "metadata": {},
   "outputs": [],
   "source": [
    "ushear = arrays.u.copy()*0 + 10*(arrays.lev - 500.)/500.\n",
    "vshear = arrays.v.copy()*0 "
   ]
  },
  {
   "cell_type": "markdown",
   "metadata": {},
   "source": [
    "# Rankine vortex: ($v_{tan} \\alpha r^{-1}$), except  ($v_{tan} \\alpha r$) in inner core"
   ]
  },
  {
   "cell_type": "code",
   "execution_count": null,
   "metadata": {},
   "outputs": [],
   "source": [
    "centerlat = arrays.lat.mean().values\n",
    "centerlon = arrays.lon.mean().values\n",
    "\n",
    "lon2d, lat2d = np.meshgrid(arrays.lon, arrays.lat)\n",
    "\n",
    "# radius in degrees from center\n",
    "r = np.sqrt( (lat2d-centerlat)**2 + (lon2d-centerlon)**2 )\n",
    "az = np.arctan2((lat2d-centerlat), (lon2d-centerlon))\n",
    "\n",
    "# vtan of 10 m/s at 1 degree, zero vorticity far field\n",
    "vtan = 10.0/(r + 1e-6) # avoid division by zero; it will be overwritten in core anyway\n",
    "# rankine near center\n",
    "inner = np.where(r<1)\n",
    "vtan[inner] = 10.0*r[inner]\n",
    "\n",
    "vvortex =  vtan * np.cos(az)\n",
    "uvortex = -vtan * np.sin(az)"
   ]
  },
  {
   "cell_type": "markdown",
   "metadata": {},
   "source": [
    "# Broadcast vortex to all levels with p > 200 hPa"
   ]
  },
  {
   "cell_type": "code",
   "execution_count": null,
   "metadata": {},
   "outputs": [],
   "source": [
    "ushearvort = ushear.copy()  # right shaped array\n",
    "vshearvort = vshear.copy()\n",
    "\n",
    "troposphere = np.where(arrays.lev > 200)\n",
    "# print(troposphere)\n",
    "\n",
    "for i in troposphere:\n",
    "    ushearvort[:,i,:,:] += uvortex\n",
    "    vshearvort[:,i,:,:] += vvortex"
   ]
  },
  {
   "cell_type": "markdown",
   "metadata": {},
   "source": [
    "# Define a w field\n",
    "## radial shape from vtan, wave1 in azimuth, sin(p) in vertical"
   ]
  },
  {
   "cell_type": "code",
   "execution_count": null,
   "metadata": {},
   "outputs": [],
   "source": [
    "wshearvort = 0*ushearvort.copy() # right shaped array\n",
    "\n",
    "left_of_downshear = np.pi/180.* 0 # angle offset of updraft from downshear direction\n",
    "\n",
    "sinprofile = np.sin(np.pi * (arrays.lev - 200)/800.)\n",
    "\n",
    "for i in troposphere:\n",
    "    wshearvort[:,i,:,:] = vtan * np.cos(az - left_of_downshear) /10.  # max of 1 m/a\n",
    "    wshearvort[:,i,:,:] *= sinprofile[i]"
   ]
  },
  {
   "cell_type": "markdown",
   "metadata": {},
   "source": [
    "# Overwrite the u,v,w arrays "
   ]
  },
  {
   "cell_type": "code",
   "execution_count": null,
   "metadata": {},
   "outputs": [],
   "source": [
    "arrays.u.values = ushearvort\n",
    "arrays.v.values = vshearvort\n",
    "arrays.w.values = wshearvort\n",
    "\n",
    "# select time, later it could be a slider but need to rewrite u_plot and v_plot for that\n",
    "synth=arrays.isel(time=0) "
   ]
  },
  {
   "cell_type": "markdown",
   "metadata": {},
   "source": [
    "<a name=\"display\"></a>\n",
    "\n",
    "# OK, built the data. Now let's display it"
   ]
  },
  {
   "cell_type": "code",
   "execution_count": null,
   "metadata": {},
   "outputs": [],
   "source": [
    "hv.notebook_extension('bokeh')\n",
    "hv.archive.auto(exporters=[hv.Store.renderers['matplotlib'].instance(holomap=None)])"
   ]
  },
  {
   "cell_type": "markdown",
   "metadata": {},
   "source": [
    "<a name=\"open_casefile\"></a>\n",
    "\n",
    "--------------\n",
    "### Do the regridding to 4-degree (90,45 global grid) and deviations therefrom"
   ]
  },
  {
   "cell_type": "code",
   "execution_count": null,
   "metadata": {},
   "outputs": [],
   "source": [
    "regrid_3d=G5NR_utils.regrid(synth,90,45)\n",
    "subrid_3d=G5NR_utils.subgrid(synth,90,45)\n",
    "\n",
    "skedot_da=G5NR_utils.SKEDot(synth.airdens,synth.u,synth.v,synth.w,90,45)"
   ]
  },
  {
   "cell_type": "markdown",
   "metadata": {},
   "source": [
    "<a name=\"map_context\"></a>\n",
    "\n",
    "### Geoviews display for the subgrid scale filtered (\"eddy\") products:\n",
    "#### level 50 is 525 mb"
   ]
  },
  {
   "cell_type": "code",
   "execution_count": null,
   "metadata": {},
   "outputs": [],
   "source": [
    "up_img=gv.Dataset(subrid_3d.u[50,:,:]).to(gv.Image,kdims=['lon','lat'],label='up @525mb').redim.range(u=(-10,10))\n",
    "vp_img=gv.Dataset(subrid_3d.v[50,:,:]).to(gv.Image,kdims=['lon','lat'],label='vp').redim.range(u=(-10,10))\n",
    "wp_img=gv.Dataset(subrid_3d.w[50,:,:]).to(gv.Image,kdims=['lon','lat'],label='wp').redim.range(u=(-1,1))"
   ]
  },
  {
   "cell_type": "code",
   "execution_count": null,
   "metadata": {},
   "outputs": [],
   "source": [
    "#subrid_3d.lev[50.:.:] #-->525 mb"
   ]
  },
  {
   "cell_type": "code",
   "execution_count": null,
   "metadata": {},
   "outputs": [],
   "source": [
    "#%%output backend='matplotlib'\n",
    "#%%opts Image (cmap='RdBu_r') [colorbar=True]\n",
    "#%%opts Image (cmap='RdBu_r') [width=300 height=200 colorbar=True toolbar='above'] #for bokeh\n",
    "#up_img*gf.coastline + vp_img*gf.coastline + wp_img*gf.coastline"
   ]
  },
  {
   "cell_type": "code",
   "execution_count": null,
   "metadata": {},
   "outputs": [],
   "source": [
    "%%output backend='bokeh'\n",
    "%%opts Image (cmap='RdBu_r') [width=300 height=200 colorbar=True xaxis=None, yaxis=None toolbar='above']\n",
    "(up_img + vp_img + wp_img).cols(2)"
   ]
  },
  {
   "cell_type": "markdown",
   "metadata": {},
   "source": [
    "--------------------\n",
    "# Set up lineplots for profile interactive"
   ]
  },
  {
   "cell_type": "code",
   "execution_count": null,
   "metadata": {},
   "outputs": [],
   "source": [
    "def u_plots(x,y):\n",
    "    lon=x\n",
    "    lat=y\n",
    "    lvs=regrid_3d.u.sel(lat=lat,lon=lon,method='nearest').lev.values\n",
    "    u=regrid_3d.u.sel(lat=lat,lon=lon,method='nearest').values\n",
    "    upwp=skedot_da.upwp.sel(lat=lat,lon=lon,method='nearest').values\n",
    "    uw=skedot_da.uw.sel(lat=lat,lon=lon,method='nearest').values\n",
    "    udiv=skedot_da.Eddy_Tend_Zon.sel(lat=lat,lon=lon,method='nearest').values\n",
    "    usheardiv=skedot_da.Eddy_Tend_Zon.sel(lat=lat,lon=lon,method='nearest').values*skedot_da.ushear.isel(lat=0,lon=0).values\n",
    "    ubaro=skedot_da.ubaro.sel(lat=lat,lon=lon,method='nearest').values\n",
    "\n",
    "    rho=regrid_3d.airdens.sel(lat=lat,lon=lon,method='nearest').values\n",
    "    usheardiv_mean=np.nansum(usheardiv*rho)/np.nansum(rho)\n",
    "\n",
    "    dp=lvs*100\n",
    "    dpbyg=np.gradient(dp)/9.8 #MKS units: dM = dp/g\n",
    "    skedot_zon=np.nansum(usheardiv*dpbyg)\n",
    "\n",
    "    u_curve=hv.Curve((u, lvs), kdims=['U'], vdims=['pressure']).redim.range(pressure=(1000,0), U=(-10,10))\n",
    "    u_curve=u_curve*hv.VLine(float(ubaro),label='ubaro')(style={'color':'black'})\n",
    "\n",
    "    upwp_curve=hv.Curve((upwp, lvs), kdims=['UPWP[blue], UW[red]'], vdims=['pressure']).redim.range(pressure=(1000,0))\n",
    "    upwp_curve=upwp_curve*hv.Curve((uw,lvs),kdims=['UW[red]'],vdims=['pressure']).redim.range(pressure=(1000,0))\n",
    "\n",
    "    udiv_curve=hv.Curve((udiv, lvs), kdims=['div(rhoupwp)'], vdims=['pressure']).redim.range(pressure=(1000,0))\n",
    "    udiv_curve=udiv_curve*hv.VLine(float(0),label='0')(style={'color':'black'})\n",
    "\n",
    "    usheardiv_curve=hv.Curve((usheardiv, lvs), kdims=['div*ushear[skedot_zon='+format(skedot_zon,\"0.2f\")+']'], vdims=['pressure']).redim.range(pressure=(1000,0))\n",
    "    usheardiv_curve=usheardiv_curve*hv.VLine(float(usheardiv_mean),label='umean')(style={'color':'black'})\n",
    "    return (upwp_curve+udiv_curve+u_curve+usheardiv_curve)\n",
    "    "
   ]
  },
  {
   "cell_type": "code",
   "execution_count": null,
   "metadata": {},
   "outputs": [],
   "source": [
    "def v_plots(x,y):\n",
    "    lon=x\n",
    "    lat=y\n",
    "    lvs=regrid_3d.v.sel(lat=lat,lon=lon,method='nearest').lev.values\n",
    "    v=regrid_3d.v.sel(lat=lat,lon=lon,method='nearest').values\n",
    "    vpwp=skedot_da.vpwp.sel(lat=lat,lon=lon,method='nearest').values\n",
    "    vw=skedot_da.vw.sel(lat=lat,lon=lon,method='nearest').values\n",
    "    vdiv=skedot_da.Eddy_Tend_Mer.sel(lat=lat,lon=lon,method='nearest').values\n",
    "    vsheardiv=skedot_da.Eddy_Tend_Mer.sel(lat=lat,lon=lon,method='nearest').values*skedot_da.vshear.isel(lat=0,lon=0).values\n",
    "    vbaro=skedot_da.vbaro.sel(lat=lat,lon=lon,method='nearest').values\n",
    "\n",
    "    dp=lvs*100\n",
    "    dpbyg=np.gradient(dp)/9.8 #MKS units: dM = dp/g\n",
    "    skedot_mer=np.nansum(vsheardiv*dpbyg)\n",
    "\n",
    "    rho=regrid_3d.airdens.sel(lat=lat,lon=lon,method='nearest').values\n",
    "    vsheardiv_mean=np.nansum(vsheardiv*rho)/np.nansum(rho)\n",
    "\n",
    "\n",
    "    v_curve=hv.Curve((v, lvs), kdims=['V'], vdims=['pressure']).redim.range(pressure=(1000,0), V=(-5,5))\n",
    "    v_curve=v_curve*hv.VLine(float(vbaro),label='vbaro')(style={'color':'black'})\n",
    "\n",
    "    vpwp_curve=hv.Curve((vpwp, lvs), kdims=['VPWP[blue], VW[red]'], vdims=['pressure']).redim.range(pressure=(1000,0))\n",
    "    vpwp_curve=vpwp_curve*hv.Curve((vw,lvs),kdims=['VW[red]'],vdims=['pressure']).redim.range(pressure=(1000,0))\n",
    "\n",
    "    vdiv_curve=hv.Curve((vdiv, lvs), kdims=['div(rhovpwp)'], vdims=['pressure']).redim.range(pressure=(1000,0))\n",
    "    vdiv_curve=vdiv_curve*hv.VLine(float(0),label='0')(style={'color':'black'})\n",
    "\n",
    "    vsheardiv_curve=hv.Curve((vsheardiv, lvs), kdims=['div*vshear[skedot_mer='+format(skedot_mer,\"0.2f\")+']'], vdims=['pressure']).redim.range(pressure=(1000,0))\n",
    "    vsheardiv_curve=vsheardiv_curve*hv.VLine(float(vsheardiv_mean),label='vbaro')(style={'color':'black'})\n",
    "    return (vpwp_curve+vdiv_curve+v_curve+vsheardiv_curve)"
   ]
  },
  {
   "cell_type": "code",
   "execution_count": null,
   "metadata": {},
   "outputs": [],
   "source": [
    "def uv_plots(x,y):\n",
    "    return u_plots(x,y)+v_plots(x,y)"
   ]
  },
  {
   "cell_type": "code",
   "execution_count": null,
   "metadata": {},
   "outputs": [],
   "source": [
    "#skedot_da"
   ]
  },
  {
   "cell_type": "code",
   "execution_count": null,
   "metadata": {},
   "outputs": [],
   "source": [
    "hvd=hv.Dataset(skedot_da.SKEDOT,kdims=['lon','lat'],vdims=['SKEDOT'])\n",
    "skedot_img=hvd.to(hv.Image,kdims=['lon','lat'],vdims=['SKEDOT']).redim.range(SKEDOT=(-5,5))"
   ]
  },
  {
   "cell_type": "code",
   "execution_count": null,
   "metadata": {},
   "outputs": [],
   "source": [
    "%%opts Image (cmap='RdBu_r') [width=600 height=400 colorbar=True toolbar='above' tools=['tap']]\n",
    "tap=streams.SingleTap(source=skedot_img,x=regrid_3d.lon.values[0],y=regrid_3d.lat.values[0])\n",
    "pointer=streams.PointerXY(source=skedot_img,x=regrid_3d.lon.values[0],y=regrid_3d.lat.values[0])\n",
    "pointer_map=hv.DynamicMap(lambda x,y: hv.Points([(x,y)])(style={'size':10,'color':'black'}),streams=[pointer])"
   ]
  },
  {
   "cell_type": "code",
   "execution_count": null,
   "metadata": {},
   "outputs": [],
   "source": [
    "u_dyn_plot=hv.DynamicMap(u_plots,kdims=[],streams=[tap])\n",
    "v_dyn_plot=hv.DynamicMap(v_plots,kdims=[],streams=[tap])\n",
    "uv_dyn_plot=hv.DynamicMap(uv_plots,kdims=[],streams=[tap])"
   ]
  },
  {
   "cell_type": "markdown",
   "metadata": {},
   "source": [
    "<a name=\"profiles\"></a>\n",
    "\n",
    "-------------\n",
    "## Profiles of the quantities behind the filterscale SKEdot map"
   ]
  },
  {
   "cell_type": "code",
   "execution_count": null,
   "metadata": {},
   "outputs": [],
   "source": [
    "skedot_img*pointer_map"
   ]
  },
  {
   "cell_type": "code",
   "execution_count": null,
   "metadata": {},
   "outputs": [],
   "source": [
    "%%opts Curve [width=200 show_grid=True]\n",
    "uv_dyn_plot"
   ]
  },
  {
   "cell_type": "code",
   "execution_count": null,
   "metadata": {},
   "outputs": [],
   "source": [
    "#%%output filename=\"lineplots\" fig=\"png\"\n",
    "#uv_dyn_plot"
   ]
  },
  {
   "cell_type": "code",
   "execution_count": null,
   "metadata": {},
   "outputs": [],
   "source": [
    "hv.archive.export()"
   ]
  },
  {
   "cell_type": "code",
   "execution_count": null,
   "metadata": {},
   "outputs": [],
   "source": []
  }
 ],
 "metadata": {
  "kernelspec": {
   "display_name": "Python 3",
   "language": "python",
   "name": "python3"
  },
  "language_info": {
   "codemirror_mode": {
    "name": "ipython",
    "version": 3
   },
   "file_extension": ".py",
   "mimetype": "text/x-python",
   "name": "python",
   "nbconvert_exporter": "python",
   "pygments_lexer": "ipython3",
   "version": "3.6.5"
  }
 },
 "nbformat": 4,
 "nbformat_minor": 2
}
