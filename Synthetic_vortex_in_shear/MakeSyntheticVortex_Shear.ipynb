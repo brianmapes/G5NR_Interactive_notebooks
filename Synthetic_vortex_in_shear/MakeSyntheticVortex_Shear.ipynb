{
 "cells": [
  {
   "cell_type": "markdown",
   "metadata": {},
   "source": [
    "# Let's make a kinematic cyclone in shear for SKEdot elucidation\n",
    "## Straight shear + deep Rankine vortex, optionally with zero-$\\zeta_{abs}$ anticyclone on top \n",
    "## + w field based on making vortex \"resilient\" (downshear ascent)\n",
    "### (stretching term devised to oppose $\\zeta$ tendencies due to advection by shearflow)"
   ]
  },
  {
   "cell_type": "code",
   "execution_count": 1,
   "metadata": {},
   "outputs": [],
   "source": [
    "import xarray as xr\n",
    "import numpy as np\n",
    "import G5NR_utils"
   ]
  },
  {
   "cell_type": "code",
   "execution_count": 2,
   "metadata": {},
   "outputs": [
    {
     "data": {
      "application/vnd.jupyter.widget-view+json": {
       "model_id": "88a42599865d4acaa8148f07cf61d6b4",
       "version_major": 2,
       "version_minor": 0
      },
      "text/plain": [
       "VBox(children=(HTML(value='<h3>ipython_IDV Control Panel</h3>'), HBox(children=(HTML(value='<b>Resources:</b>'…"
      ]
     },
     "metadata": {},
     "output_type": "display_data"
    }
   ],
   "source": [
    "%reload_ext ipython_IDV"
   ]
  },
  {
   "cell_type": "markdown",
   "metadata": {},
   "source": [
    "# Make the array shape match G5NR case studies"
   ]
  },
  {
   "cell_type": "code",
   "execution_count": 86,
   "metadata": {},
   "outputs": [],
   "source": [
    "path = '/Users/bem/Jupyter/G5NR_Interactive_notebooks/'\n",
    "zbundlefile = path+'data/ZIDV_cases/skedot_40.1_prec_119.7_lat_28.6_lon_148.0_time_200610131230.zidv'\n",
    "xrdata_3d = xr.from_zidv(zbundlefile)"
   ]
  },
  {
   "cell_type": "code",
   "execution_count": 87,
   "metadata": {},
   "outputs": [
    {
     "name": "stdout",
     "output_type": "stream",
     "text": [
      "<xarray.DataArray 'u' (lat: 176)>\n",
      "array([ 13.246612,  13.465362,  13.590362,  13.699737,  14.121612,  14.652862,\n",
      "        14.840362,  14.840362,  15.090362,  15.559112,  15.996612,  16.309113,\n",
      "        16.434113,  16.465363,  16.559113,  16.652863,  16.809113,  17.059113,\n",
      "        17.465363,  17.934113,  18.340363,        nan,  18.652863,  18.902863,\n",
      "        19.246613,  19.652863,  20.121613,  20.715363,  21.371613,  21.902863,\n",
      "        22.465363,  23.215363,  23.902863,  24.434113,  25.027863,  25.871613,\n",
      "        26.902863,  28.090363,  29.340363,  30.496613,  31.277863,  31.965363,\n",
      "        32.715363,  33.715363,  34.652863,  35.215363,  36.027863,  37.215363,\n",
      "        38.402863,  39.527863,  40.777863,  42.527863,  44.652863,  46.840363,\n",
      "        49.027863,  51.215363,  51.902863,  49.215363,  42.402863,  32.152863,\n",
      "        21.027863,  14.090362,  11.840362,  10.215362,   8.105987,   5.879424,\n",
      "         3.434112,   0.574737,  -2.526826,  -6.737763, -12.644013, -20.034637,\n",
      "       -29.409637, -40.472137, -50.284637, -56.034637, -58.784637, -59.409637,\n",
      "       -58.659637, -56.722137, -53.909637, -50.722137, -47.222137, -43.909637,\n",
      "       -40.972137, -38.597137, -36.972137, -35.847137,        nan, -34.847137,\n",
      "       -33.722137, -32.690887, -31.815887, -30.972137, -30.159637, -29.347137,\n",
      "       -28.534637, -27.847137, -27.409637, -27.097137, -26.534637, -25.753387,\n",
      "       -24.909637, -24.065887, -23.503387, -23.190887, -22.878387, -22.284637,\n",
      "       -21.784637, -21.347137, -20.940887, -20.659637, -20.409637, -20.128387,\n",
      "       -19.753387, -19.284637, -18.878387, -18.503387, -18.190887, -18.128387,\n",
      "       -18.003387, -17.659637, -17.440887, -17.253387, -17.019012, -16.769012,\n",
      "       -16.425262, -16.019012, -15.675263, -15.440888, -15.222138, -15.003388,\n",
      "       -14.784638, -14.597138, -14.440888, -14.253388, -14.034638, -13.847138,\n",
      "       -13.722138, -13.581513, -13.394013, -13.128388, -12.784638, -12.347138,\n",
      "       -11.862763, -11.487763, -11.222138, -10.987763, -10.847138, -10.737763,\n",
      "       -10.581513, -10.315888, -10.019013,  -9.815888,        nan,  -9.612763,\n",
      "        -9.315888,  -9.206513,  -9.347138,  -9.347138,  -9.120576,  -8.854951,\n",
      "        -8.651826,  -8.683076,  -8.722138,  -8.612763,  -8.440888,  -8.300263,\n",
      "        -8.190888,  -8.003388,  -7.808076,  -7.636201,  -7.503388,  -7.456513,\n",
      "        -7.534638,  -7.714326], dtype=float32)\n",
      "Coordinates:\n",
      "  * lat      (lat) float64 23.25 23.31 23.38 23.44 23.5 23.56 23.62 23.69 ...\n",
      "    lon      float64 148.4\n",
      "    time     datetime64[ns] 2006-10-13T11:30:00\n",
      "    lev      float64 970.0\n",
      "Attributes:\n",
      "    _CoordinateAxes:  time lev lat lon \n",
      "    units:            m s-1\n",
      "    long_name:        eastward_wind \n"
     ]
    }
   ],
   "source": [
    "# Why the $&#(@#* are there NANs here? \n",
    "print( xrdata_3d.u[0,70,:,128] )"
   ]
  },
  {
   "cell_type": "code",
   "execution_count": 88,
   "metadata": {},
   "outputs": [
    {
     "name": "stdout",
     "output_type": "stream",
     "text": [
      "<xarray.DataArray 'u' (lat: 173)>\n",
      "array([ 13.152862,  13.340362,  13.527862,  13.684112,  13.965362,  14.449737,\n",
      "        14.809112,  14.809112,  14.871612,  15.152862,  15.590362,  16.027863,\n",
      "        16.371613,  16.434113,  16.465363,  16.590363,  16.746613,  16.934113,\n",
      "        17.215363,  17.590363,  18.059113,  18.496613,  18.809113,  19.121613,\n",
      "        19.465363,  19.934113,  20.465363,  21.027863,  21.652863,  22.309113,\n",
      "        23.027863,  23.746613,  24.402863,  24.996613,  25.715363,  26.715363,\n",
      "        27.902863,  29.246613,  30.559113,  31.465363,  31.840363,  32.152863,\n",
      "        32.652863,  33.340363,  33.840363,  34.340363,  35.215363,  36.277863,\n",
      "        37.402863,  38.527863,  39.840363,  41.652863,  43.902863,  46.027863,\n",
      "        47.965363,  49.027863,  46.965363,  40.777863,  31.590363,  21.965363,\n",
      "        15.590362,  13.090362,  11.043487,   8.355987,   5.090362,   1.555206,\n",
      "        -2.36081 ,  -6.409638, -11.300263, -17.753387, -25.784637, -35.347137,\n",
      "       -44.597137, -51.284637, -55.597137, -58.097137, -58.909637, -58.472137,\n",
      "       -56.847137, -54.347137, -51.097137, -47.847137, -44.847137, -42.097137,\n",
      "       -39.847137, -38.159637, -36.909637, -35.784637, -34.659637, -33.472137,\n",
      "       -32.472137, -31.628387, -30.722137, -29.847137, -29.065887, -28.253387,\n",
      "       -27.628387, -27.315887, -26.815887, -26.065887, -25.315887, -24.472137,\n",
      "       -23.784637, -23.409637, -23.034637, -22.503387, -21.972137, -21.534637,\n",
      "       -21.159637, -20.847137, -20.628387, -20.409637, -20.097137, -19.659637,\n",
      "       -19.128387, -18.722137, -18.347137, -18.097137, -17.940887, -17.722137,\n",
      "       -17.503387, -17.315887, -17.065887, -16.831512, -16.519012, -16.112762,\n",
      "       -15.753388, -15.503388, -15.284638, -15.065888, -14.831513, -14.628388,\n",
      "       -14.456513, -14.253388, -14.034638, -13.815888, -13.628388, -13.472138,\n",
      "       -13.300263, -13.097138, -12.862763, -12.519013, -12.050263, -11.644013,\n",
      "       -11.362763, -11.159638, -11.019013, -10.909638, -10.737763, -10.487763,\n",
      "       -10.159638,  -9.847138,  -9.612763,  -9.394013,  -9.237763,  -9.300263,\n",
      "        -9.347138,  -9.183076,  -8.995576,  -8.761201,  -8.729951,  -8.839326,\n",
      "        -8.784638,  -8.612763,  -8.417451,  -8.269013,  -8.081513,  -7.870576,\n",
      "        -7.683076,  -7.534638,  -7.448701,  -7.456513,  -7.581513],\n",
      "      dtype=float32)\n",
      "Coordinates:\n",
      "    time     datetime64[ns] 2006-10-13T11:30:00\n",
      "    lev      float64 970.0\n",
      "  * lat      (lat) float64 23.25 23.31 23.38 23.44 23.5 23.56 23.62 23.69 ...\n",
      "    lon      float64 148.5\n",
      "Attributes:\n",
      "    _CoordinateAxes:  time lev lat lon \n",
      "    units:            m s-1\n",
      "    long_name:        eastward_wind \n"
     ]
    }
   ],
   "source": [
    "xrdata_3d = xr.open_dataset('data/data_0_3D7km30minuteInst.nc')\n",
    "print( xrdata_3d.u[0,70,:,128] )"
   ]
  },
  {
   "cell_type": "code",
   "execution_count": 89,
   "metadata": {},
   "outputs": [
    {
     "data": {
      "text/plain": [
       "<xarray.Dataset>\n",
       "Dimensions:  (lat: 173, lev: 72, lon: 241, time: 5)\n",
       "Coordinates:\n",
       "  * time     (time) datetime64[ns] 2006-10-13T11:30:00 2006-10-13T12:00:00 ...\n",
       "  * lev      (lev) float64 0.01 0.02 0.0327 0.0476 0.066 0.0893 0.1197 ...\n",
       "  * lat      (lat) float64 23.25 23.31 23.38 23.44 23.5 23.56 23.62 23.69 ...\n",
       "  * lon      (lon) float64 140.5 140.6 140.6 140.7 140.8 140.8 140.9 140.9 ...\n",
       "Data variables:\n",
       "    u        (time, lev, lat, lon) float32 ...\n",
       "    v        (time, lev, lat, lon) float32 ...\n",
       "    w        (time, lev, lat, lon) float32 ...\n",
       "    airdens  (time, lev, lat, lon) float32 ...\n",
       "Attributes:\n",
       "    title:                3d,30-Minute,Instantaneous,Model-Level,Full Resolut...\n",
       "    Conventions:          CF-1.0\n",
       "    dataType:             Grid\n",
       "    history:              Thu Dec 08 16:06:15 EST 2016 : imported by GrADS Da...\n",
       "    extra_das_attribute:  This is an example of metadata added using a supple...\n",
       "    History:              Translated to CF-1.0 Conventions by Netcdf-Java CDM...\n",
       "    geospatial_lat_min:   23.25\n",
       "    geospatial_lat_max:   34.0\n",
       "    geospatial_lon_min:   140.5\n",
       "    geospatial_lon_max:   155.5"
      ]
     },
     "execution_count": 89,
     "metadata": {},
     "output_type": "execute_result"
    }
   ],
   "source": [
    "arrays = xrdata_3d  #.isel(time=(0,1)) \n",
    "arrays"
   ]
  },
  {
   "cell_type": "markdown",
   "metadata": {},
   "source": [
    "# Shear flow: linear in pressure, zero at 500 hPa "
   ]
  },
  {
   "cell_type": "code",
   "execution_count": 90,
   "metadata": {},
   "outputs": [],
   "source": [
    "ushear = arrays.u.copy()*0 + 10*(arrays.lev - 500.)/500.\n",
    "vshear = arrays.v.copy()*0 "
   ]
  },
  {
   "cell_type": "markdown",
   "metadata": {},
   "source": [
    "# Vortex: (vtan $\\alpha$ $r^{-1}$), except  (vtan $\\alpha$ $r$) near center"
   ]
  },
  {
   "cell_type": "code",
   "execution_count": 94,
   "metadata": {},
   "outputs": [],
   "source": [
    "centerlat = arrays.lat.mean().values\n",
    "centerlon = arrays.lon.mean().values\n",
    "\n",
    "lon2d, lat2d = np.meshgrid(arrays.lon, arrays.lat)\n",
    "\n",
    "# radius in degrees from center\n",
    "r = np.sqrt( (lat2d-centerlat)**2 + (lon2d-centerlon)**2 )\n",
    "az = np.arctan2((lat2d-centerlat), (lon2d-centerlon))\n",
    "\n",
    "# vtan of 10 m/s at 1 degree, zero vorticity far field\n",
    "vtan = 10.0/(r + 1e-6) # avoid division by zero; it will be overwritten in core anyway\n",
    "# rankine near center\n",
    "inner = np.where(r<1)\n",
    "vtan[inner] = 10.0*r[inner]\n",
    "\n",
    "vvortex =  vtan * np.cos(az)\n",
    "uvortex = -vtan * np.sin(az)"
   ]
  },
  {
   "cell_type": "markdown",
   "metadata": {},
   "source": [
    "# Broadcast vortex to all levels with p > 200 hPa"
   ]
  },
  {
   "cell_type": "code",
   "execution_count": 95,
   "metadata": {},
   "outputs": [
    {
     "name": "stdout",
     "output_type": "stream",
     "text": [
      "(array([42, 43, 44, 45, 46, 47, 48, 49, 50, 51, 52, 53, 54, 55, 56, 57, 58,\n",
      "       59, 60, 61, 62, 63, 64, 65, 66, 67, 68, 69, 70, 71]),)\n"
     ]
    }
   ],
   "source": [
    "ushearvort = ushear.copy()  # right shaped array\n",
    "vshearvort = vshear.copy()\n",
    "\n",
    "troposphere = np.where(arrays.lev > 200)\n",
    "print(troposphere)\n",
    "\n",
    "for i in troposphere:\n",
    "    ushearvort[:,i,:,:] += uvortex\n",
    "    vshearvort[:,i,:,:] += vvortex"
   ]
  },
  {
   "cell_type": "markdown",
   "metadata": {},
   "source": [
    "# Define a w field\n",
    "## radial shape from vtan, wave1 in azimuth, sin(p) in lev"
   ]
  },
  {
   "cell_type": "code",
   "execution_count": 97,
   "metadata": {},
   "outputs": [],
   "source": [
    "wshearvort = 0*ushearvort.copy() # right shaped array\n",
    "\n",
    "left_of_downshear = np.pi/180.* 0 # angle offset of updraft from downshear direction\n",
    "\n",
    "sinprofile = np.sin(np.pi * (arrays.lev - 200)/800.)\n",
    "\n",
    "for i in troposphere:\n",
    "    wshearvort[:,i,:,:] = vtan * np.cos(az - left_of_downshear)  /100. # max of 0.1 m/a\n",
    "    wshearvort[:,i,:,:] *= sinprofile[i]"
   ]
  },
  {
   "cell_type": "markdown",
   "metadata": {},
   "source": [
    "# Put the synthetic data back into the xarray dataset and export\n"
   ]
  },
  {
   "cell_type": "code",
   "execution_count": 98,
   "metadata": {},
   "outputs": [],
   "source": [
    "arrays.u.values = ushearvort\n",
    "arrays.v.values = vshearvort\n",
    "arrays.w.values = wshearvort"
   ]
  },
  {
   "cell_type": "code",
   "execution_count": 100,
   "metadata": {},
   "outputs": [
    {
     "name": "stdout",
     "output_type": "stream",
     "text": [
      "Populating the interactive namespace from numpy and matplotlib\n"
     ]
    },
    {
     "name": "stderr",
     "output_type": "stream",
     "text": [
      "//anaconda/envs/drilsdown/lib/python3.6/site-packages/IPython/core/magics/pylab.py:161: UserWarning: pylab import has clobbered these variables: ['inner']\n",
      "`%matplotlib` prevents importing * from pylab and numpy\n",
      "  \"\\n`%matplotlib` prevents importing * from pylab and numpy\"\n"
     ]
    },
    {
     "data": {
      "text/plain": [
       "<matplotlib.colorbar.Colorbar at 0x1143c51d0>"
      ]
     },
     "execution_count": 100,
     "metadata": {},
     "output_type": "execute_result"
    },
    {
     "data": {
      "image/png": "[encoded data removed]",
      "text/plain": [
       "<Figure size 432x288 with 2 Axes>"
      ]
     },
     "metadata": {},
     "output_type": "display_data"
    }
   ],
   "source": [
    "%pylab inline\n",
    "#contourf(uvortex, 50); colorbar()\n",
    "contourf(ushearvort[0,70,:,:], 50); colorbar()"
   ]
  },
  {
   "cell_type": "code",
   "execution_count": 101,
   "metadata": {},
   "outputs": [
    {
     "name": "stdout",
     "output_type": "stream",
     "text": [
      "data loaded\n"
     ]
    }
   ],
   "source": [
    "arrays.to_IDV()"
   ]
  },
  {
   "cell_type": "code",
   "execution_count": 102,
   "metadata": {},
   "outputs": [
    {
     "data": {
      "image/png": "[encoded data removed]",
      "text/plain": [
       "<IPython.core.display.Image object>"
      ]
     },
     "metadata": {},
     "output_type": "display_data"
    }
   ],
   "source": [
    "%make_image -capture legend"
   ]
  },
  {
   "cell_type": "code",
   "execution_count": 104,
   "metadata": {},
   "outputs": [],
   "source": [
    "arrays.to_netcdf(path + 'data/synth_vortex_in_shear.nc')"
   ]
  },
  {
   "cell_type": "code",
   "execution_count": null,
   "metadata": {},
   "outputs": [],
   "source": []
  }
 ],
 "metadata": {
  "kernelspec": {
   "display_name": "Python 3",
   "language": "python",
   "name": "python3"
  },
  "language_info": {
   "codemirror_mode": {
    "name": "ipython",
    "version": 3
   },
   "file_extension": ".py",
   "mimetype": "text/x-python",
   "name": "python",
   "nbconvert_exporter": "python",
   "pygments_lexer": "ipython3",
   "version": "3.6.5"
  }
 },
 "nbformat": 4,
 "nbformat_minor": 2
}
